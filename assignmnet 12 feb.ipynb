{
 "cells": [
  {
   "cell_type": "code",
   "execution_count": 4,
   "id": "e738ece3-7c56-4e0b-8d6f-f47cc487f1e3",
   "metadata": {},
   "outputs": [],
   "source": [
    "#Question1:\n",
    "#Answer:\n",
    "# 1. An exception is a Python object that represents an error.\n",
    "# 2. An error is an issue in a program that prevents the program from completing its task. In comparison, an exception is a condition that interrupts the normal flow of the program.\n"
   ]
  },
  {
   "cell_type": "code",
   "execution_count": 12,
   "id": "81c6d15b-39a1-4c08-8236-1ab8d93086b9",
   "metadata": {},
   "outputs": [
    {
     "name": "stdout",
     "output_type": "stream",
     "text": [
      "this line is not excecuted if an unhandled excepction occured\n"
     ]
    }
   ],
   "source": [
    "#Question2:\n",
    "#Answer:\n",
    "def divide_number(a,b):\n",
    "    return a/b\n",
    "try:\n",
    "    result = divide_number(1,0)\n",
    "except Exception as e:\n",
    "    pass\n",
    "print(\"this line is not excecuted if an unhandled excepction occured\")\n",
    "\n",
    "#When an exception is not handled in Python, it will result in the program terminating abruptly, and an error message will be displayed, indicating the type of exception and the location in the code where it occurred. This is known as an \"unhandled exception.\""
   ]
  },
  {
   "cell_type": "code",
   "execution_count": 15,
   "id": "1a935925-0d48-4eb2-a0dc-542c82e920e2",
   "metadata": {},
   "outputs": [
    {
     "name": "stdout",
     "output_type": "stream",
     "text": [
      "this is else block it will execute once try block runs successfully\n",
      "hey this is the finaaly block.\n"
     ]
    }
   ],
   "source": [
    "#Question3:\n",
    "#Answer:\n",
    "\"\"\"In Python, you can catch and handle exceptions using the try, except, else, and finally statements. \"\"\"\n",
    "\n",
    "try:\n",
    "    f = open(\"test.txt\",\"w\")\n",
    "    f.write(\"i  am writing a topic for my text file\")\n",
    "except Exception as e:\n",
    "    print(\"this is the except block\",e)\n",
    "else:\n",
    "    f.close()\n",
    "    print(\"this is else block it will execute once try block runs successfully\")\n",
    "finally:\n",
    "    print(\"hey this is the finaaly block.\")"
   ]
  },
  {
   "cell_type": "code",
   "execution_count": 19,
   "id": "4a9c76de-186f-469a-858f-533cb0e94dff",
   "metadata": {},
   "outputs": [
    {
     "name": "stdout",
     "output_type": "stream",
     "text": [
      "try executed successfully\n",
      "this is the exception division by zero\n",
      "this is the finally block\n",
      "dividing by zero is not allowed\n"
     ]
    }
   ],
   "source": [
    "#Question4:\n",
    "#Answer4:\n",
    "#a)\n",
    "try:\n",
    "    f = open(\"abc.txt\",\"w\")\n",
    "    f.write(\"hey i am writing\")\n",
    "except Exception as e:\n",
    "    print(\"this is the exception\",e)\n",
    "else:\n",
    "    print(\"try executed successfully\")\n",
    "    \n",
    "#b)\n",
    "try:\n",
    "    a = 100/0\n",
    "    print(a)\n",
    "except Exception as e:\n",
    "    print(\"this is the exception\",e)\n",
    "finally:\n",
    "    print(\"this is the finally block\")\n",
    "    \n",
    "#c}\n",
    "def divide_num(a,b):\n",
    "    if b==0:\n",
    "        raise ValueError(\"dividing by zero is not allowed\")\n",
    "    return a/b\n",
    "try:\n",
    "    result = divide_num(10,0)\n",
    "except ValueError as e:\n",
    "    print(e)\n",
    "else:\n",
    "    print(result)"
   ]
  },
  {
   "cell_type": "code",
   "execution_count": 23,
   "id": "fad979b3-86d4-40eb-8d66-47803ef32022",
   "metadata": {},
   "outputs": [],
   "source": [
    "#Question5:\n",
    "#Answer:\n",
    "\n",
    "\"\"\"Custom exceptions are user-defined exception classes in Python.\n",
    "   They allow you to create your own exception types to handle specific situations or errors in your code.\n",
    "   By defining custom exceptions, you can provide more meaningful error messages and make your code more organized and easier to maintain.\n",
    "    why we use it :\n",
    "                    1. Clarity and Meaningful Messages\n",
    "                    2. Handling Specific Situations\"\"\"\n",
    "\n",
    "class validate_age(Exception):\n",
    "    def __init__(self,msg):\n",
    "        self.msg = msg"
   ]
  },
  {
   "cell_type": "code",
   "execution_count": 24,
   "id": "0d80b418-7dc2-4bf7-85b2-7cc0dc95d2f9",
   "metadata": {},
   "outputs": [],
   "source": [
    "def verify_age(age):\n",
    "    if age<0:\n",
    "        raise validate_age(\"the age is negative which is not possible\")\n",
    "    elif age>200:\n",
    "        raise validate_age(\"the age is too high\")\n",
    "    else:\n",
    "        print(\"age is valid\")"
   ]
  },
  {
   "cell_type": "code",
   "execution_count": 25,
   "id": "2246c778-cd8e-48e1-a57b-f065a7793f65",
   "metadata": {},
   "outputs": [
    {
     "name": "stdin",
     "output_type": "stream",
     "text": [
      "Enter your age 545\n"
     ]
    },
    {
     "name": "stdout",
     "output_type": "stream",
     "text": [
      "the age is too high\n"
     ]
    }
   ],
   "source": [
    "try:\n",
    "    age = int(input(\"Enter your age\"))\n",
    "    verify_age(age)\n",
    "except validate_age as e:\n",
    "    print(e)"
   ]
  },
  {
   "cell_type": "code",
   "execution_count": 4,
   "id": "3fa4b341-39a0-4b5d-818a-a3492bbcbf84",
   "metadata": {},
   "outputs": [],
   "source": [
    "#Question6:\n",
    "#Answer:\n",
    "class  invalid_email(Exception):\n",
    "    def __init__(self,msg):\n",
    "        self.msg = msg"
   ]
  },
  {
   "cell_type": "code",
   "execution_count": 5,
   "id": "2d3dafde-42ce-4701-8b5c-15560ca11c2f",
   "metadata": {},
   "outputs": [],
   "source": [
    "def check_email(email):\n",
    "    if \"@\" not in email or \".\" not in email:\n",
    "        raise invalid_email(\"email address is not valid\")\n",
    "    else:\n",
    "        print(\"valid email\")"
   ]
  },
  {
   "cell_type": "code",
   "execution_count": null,
   "id": "4558df1e-843e-4996-a5ab-e3ed022fcd9b",
   "metadata": {},
   "outputs": [
    {
     "name": "stdin",
     "output_type": "stream",
     "text": [
      "enter your email aman@gmail.com\n"
     ]
    }
   ],
   "source": [
    "try:\n",
    "    email = input(\"enter your email\")\n",
    "    check_email(email)\n",
    "except invalid_email as e:\n",
    "    print(e)"
   ]
  },
  {
   "cell_type": "code",
   "execution_count": null,
   "id": "b72ef211-594a-4be9-8b0e-61940fc2608e",
   "metadata": {},
   "outputs": [],
   "source": []
  }
 ],
 "metadata": {
  "kernelspec": {
   "display_name": "Python 3 (ipykernel)",
   "language": "python",
   "name": "python3"
  },
  "language_info": {
   "codemirror_mode": {
    "name": "ipython",
    "version": 3
   },
   "file_extension": ".py",
   "mimetype": "text/x-python",
   "name": "python",
   "nbconvert_exporter": "python",
   "pygments_lexer": "ipython3",
   "version": "3.10.6"
  }
 },
 "nbformat": 4,
 "nbformat_minor": 5
}
